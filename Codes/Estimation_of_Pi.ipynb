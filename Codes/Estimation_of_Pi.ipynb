{
 "cells": [
  {
   "cell_type": "markdown",
   "id": "88a4df1f-f711-4631-9631-2b3c37d61531",
   "metadata": {},
   "source": [
    "## Estimation of Pi"
   ]
  },
  {
   "cell_type": "code",
   "execution_count": 1,
   "id": "dde650f1-22fa-470f-b5da-f6445204b959",
   "metadata": {},
   "outputs": [],
   "source": [
    "import numpy as np\n",
    "import pandas as pd\n",
    "import matplotlib.pyplot as plt\n",
    "import random\n",
    "import math\n",
    "import statistics as stat"
   ]
  },
  {
   "cell_type": "code",
   "execution_count": null,
   "id": "2a17c5de-9799-4321-b27e-96d287643ba3",
   "metadata": {},
   "outputs": [],
   "source": [
    "def distance(x,y):\n",
    "    '''Takes x and y coordinates of a point and returns Euclidean distance'''\n",
    "    return np.sqrt(x**2+y**2)"
   ]
  },
  {
   "cell_type": "code",
   "execution_count": null,
   "id": "7ce2c8e3-39c3-4076-802a-35aff53e5b46",
   "metadata": {},
   "outputs": [],
   "source": [
    "def calc_pi(n):\n",
    "    '''\n",
    "    Input: n (int) Number of random points\n",
    "    Output: Estimated value of pi\n",
    "    '''\n",
    "    count = 0\n",
    "    radius = 0.5\n",
    "    for i in range(n):\n",
    "        x = random.uniform(-radius, radius)\n",
    "        y = random.uniform(-radius, radius)\n",
    "        d = distance(x,y)\n",
    "        if(d <= radius):\n",
    "            count+=1\n",
    "    return (count/n)/radius**2"
   ]
  },
  {
   "cell_type": "code",
   "execution_count": null,
   "id": "3743cc6b-dab5-4794-b801-74392dd31334",
   "metadata": {},
   "outputs": [],
   "source": [
    "def error_calc(n):\n",
    "    '''\n",
    "    Input: n (int) Number of iteration\n",
    "    Output: \n",
    "    arr(list): Estimated values of pi\n",
    "    mean(float): mean of arr\n",
    "    stdev(float): standard deviation of arr\n",
    "    '''\n",
    "    arr=[]\n",
    "    for i in range(n):\n",
    "        pi = calc_pi(100000)\n",
    "        arr.append(pi)\n",
    "    return arr, stat.mean(arr), stat.stdev(arr)"
   ]
  },
  {
   "cell_type": "code",
   "execution_count": null,
   "id": "0c9999eb-bf5d-405a-bbff-ae5f54187f08",
   "metadata": {},
   "outputs": [],
   "source": [
    "arr, mean, stddev = error_calc(10000)\n",
    "print(f\"Mean = {mean}, Standard Deviation = {stddev}\")"
   ]
  },
  {
   "cell_type": "code",
   "execution_count": null,
   "id": "8f1da0c7-cf49-4a59-a695-76ebca507988",
   "metadata": {},
   "outputs": [],
   "source": [
    "# Create a histogram\n",
    "plt.hist(arr, bins=20, edgecolor='black')\n",
    "plt.axvline(x=mean, color='red', linestyle='--', linewidth=2, label = f'Mean Value={mean}')\n",
    "plt.xlabel('Value of $\\pi$')\n",
    "plt.ylabel('Frequency')\n",
    "plt.title('Distribution of $\\pi$')\n",
    "plt.legend()\n",
    "plt.show()"
   ]
  }
 ],
 "metadata": {
  "kernelspec": {
   "display_name": "Python 3 (ipykernel)",
   "language": "python",
   "name": "python3"
  },
  "language_info": {
   "codemirror_mode": {
    "name": "ipython",
    "version": 3
   },
   "file_extension": ".py",
   "mimetype": "text/x-python",
   "name": "python",
   "nbconvert_exporter": "python",
   "pygments_lexer": "ipython3",
   "version": "3.12.4"
  }
 },
 "nbformat": 4,
 "nbformat_minor": 5
}
